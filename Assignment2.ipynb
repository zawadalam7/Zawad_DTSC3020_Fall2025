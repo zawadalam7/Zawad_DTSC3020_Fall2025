{
  "nbformat": 4,
  "nbformat_minor": 0,
  "metadata": {
    "colab": {
      "provenance": [],
      "authorship_tag": "ABX9TyM9gi5nMfGLoqDECVrqiJIV",
      "include_colab_link": true
    },
    "kernelspec": {
      "name": "python3",
      "display_name": "Python 3"
    },
    "language_info": {
      "name": "python"
    }
  },
  "cells": [
    {
      "cell_type": "markdown",
      "metadata": {
        "id": "view-in-github",
        "colab_type": "text"
      },
      "source": [
        "<a href=\"https://colab.research.google.com/github/zawadalam7/Zawad_DTSC3020_Fall2025/blob/main/Assignment2.ipynb\" target=\"_parent\"><img src=\"https://colab.research.google.com/assets/colab-badge.svg\" alt=\"Open In Colab\"/></a>"
      ]
    },
    {
      "cell_type": "code",
      "execution_count": null,
      "metadata": {
        "colab": {
          "base_uri": "https://localhost:8080/"
        },
        "id": "0ZjAGV4UDkBd",
        "outputId": "7b1a70a9-0e00-44d6-d63d-80ecd41664f3"
      },
      "outputs": [
        {
          "output_type": "stream",
          "name": "stdout",
          "text": [
            "The fruits are:\n",
            "apple\n",
            "banana\n",
            "orange\n"
          ]
        }
      ],
      "source": [
        "#(1)\n",
        "fruits = [\"apple\", \"banana\", \"orange\"]\n",
        "\n",
        "print(\"The fruits are:\")\n",
        "for fruit in fruits:\n",
        "    print(fruit)"
      ]
    },
    {
      "cell_type": "code",
      "source": [
        "#(2)\n",
        "names = [\"Josh\", \"Maria\", \"Jesse\", \"Edward\"]\n",
        "\n",
        "names[0] = \"Sienna\"\n",
        "\n",
        "print(\"Updated list of names:\", names)"
      ],
      "metadata": {
        "colab": {
          "base_uri": "https://localhost:8080/"
        },
        "id": "CLFZYjqZEdcT",
        "outputId": "528cfbd2-bfdd-4184-ffd5-90d027db64b9"
      },
      "execution_count": null,
      "outputs": [
        {
          "output_type": "stream",
          "name": "stdout",
          "text": [
            "Updated list of names: ['Sienna', 'Maria', 'Jesse', 'Edward']\n"
          ]
        }
      ]
    },
    {
      "cell_type": "code",
      "source": [
        "#(3)\n",
        "vehicles = [\"car\", \"bus\", \"bike\", \"train\", \"truck\"]\n",
        "\n",
        "vehicles.append(\"boat\")\n",
        "\n",
        "print(\"Updated list of vehicles:\", vehicles)"
      ],
      "metadata": {
        "colab": {
          "base_uri": "https://localhost:8080/"
        },
        "id": "oQqtcVshG7kV",
        "outputId": "679bbfb3-ff13-42ce-8f47-bb7869fc7d07"
      },
      "execution_count": null,
      "outputs": [
        {
          "output_type": "stream",
          "name": "stdout",
          "text": [
            "Updated list of vehicles: ['car', 'bus', 'bike', 'train', 'truck', 'boat']\n"
          ]
        }
      ]
    },
    {
      "cell_type": "code",
      "source": [
        "#(4)\n",
        "foods = [\"burger\", \"pizza\", \"pasta\", \"rice\", \"taco\", \"sushi\"]\n",
        "\n",
        "foods.remove(\"taco\")\n",
        "\n",
        "print(\"Updated list of foods:\", foods)"
      ],
      "metadata": {
        "colab": {
          "base_uri": "https://localhost:8080/"
        },
        "id": "jshHuGDXHj-s",
        "outputId": "b83a8b2b-106e-416c-f195-3ed3815ed01d"
      },
      "execution_count": null,
      "outputs": [
        {
          "output_type": "stream",
          "name": "stdout",
          "text": [
            "Updated list of foods: ['burger', 'pizza', 'pasta', 'rice', 'sushi']\n"
          ]
        }
      ]
    },
    {
      "cell_type": "code",
      "source": [
        "#(5)\n",
        "cities = [\"London\", \"Paris\", \"Amsterdam\", \"Lisbon\"]\n",
        "\n",
        "cities.sort()\n",
        "print(\"Alphabetically sorted list of cities:\", cities)\n",
        "\n",
        "cities.reverse()\n",
        "print(\"Reversed list of cities:\", cities)"
      ],
      "metadata": {
        "colab": {
          "base_uri": "https://localhost:8080/"
        },
        "id": "Ok9XRbYIINcm",
        "outputId": "4e26d9e5-ade1-4ab0-9bcd-47f7d47cd3c1"
      },
      "execution_count": null,
      "outputs": [
        {
          "output_type": "stream",
          "name": "stdout",
          "text": [
            "Alphabetically sorted list of cities: ['Amsterdam', 'Lisbon', 'London', 'Paris']\n",
            "Reversed list of cities: ['Paris', 'London', 'Lisbon', 'Amsterdam']\n"
          ]
        }
      ]
    },
    {
      "cell_type": "code",
      "source": [
        "#(6)\n",
        "animals= [\"dog\", \"cat\", \"rabbit\"]\n",
        "\n",
        "print(\"List of animals:\")\n",
        "for animal in animals:\n",
        "    print(animal)"
      ],
      "metadata": {
        "colab": {
          "base_uri": "https://localhost:8080/"
        },
        "id": "JT5gJjwIJCx-",
        "outputId": "fcf1071e-33b1-472a-e09d-f5bce16dca10"
      },
      "execution_count": null,
      "outputs": [
        {
          "output_type": "stream",
          "name": "stdout",
          "text": [
            "List of animals:\n",
            "dog\n",
            "cat\n",
            "rabbit\n"
          ]
        }
      ]
    },
    {
      "cell_type": "code",
      "source": [
        "#(7)\n",
        "numbers = [1, 2, 3, 4, 5]\n",
        "\n",
        "print(\"List of numbers multiplied by 2:\")\n",
        "for number in numbers:\n",
        "    print(number * 2)"
      ],
      "metadata": {
        "colab": {
          "base_uri": "https://localhost:8080/"
        },
        "id": "PTBPIoCFJttt",
        "outputId": "48c1f9e3-4aae-4734-b39b-36c69bfb8d5a"
      },
      "execution_count": null,
      "outputs": [
        {
          "output_type": "stream",
          "name": "stdout",
          "text": [
            "List of numbers multiplied by 2:\n",
            "2\n",
            "4\n",
            "6\n",
            "8\n",
            "10\n"
          ]
        }
      ]
    },
    {
      "cell_type": "code",
      "source": [
        "#(8)\n",
        "friends = [\"Ronaldo\", \"Messi\", \"Neymar\", \"Bale\", \"Cole\", \"Benzema\"]\n",
        "\n",
        "print(\"List of first 3 friends:\", friends[:3])\n",
        "print(\"List of last 3 friends:\", friends[-3:])"
      ],
      "metadata": {
        "colab": {
          "base_uri": "https://localhost:8080/"
        },
        "id": "gqRiRVnuKGeP",
        "outputId": "878d668e-c1c5-4a7a-ddfc-4b49be21593c"
      },
      "execution_count": null,
      "outputs": [
        {
          "output_type": "stream",
          "name": "stdout",
          "text": [
            "List of first 3 friends: ['Ronaldo', 'Messi', 'Neymar']\n",
            "List of last 3 friends: ['Bale', 'Cole', 'Benzema']\n"
          ]
        }
      ]
    },
    {
      "cell_type": "code",
      "source": [
        "#(9)\n",
        "numbers = list(range(1, 11))\n",
        "\n",
        "print(\"List of numbers from 1 to 10:\", numbers)"
      ],
      "metadata": {
        "colab": {
          "base_uri": "https://localhost:8080/"
        },
        "id": "XWwogQowK5mE",
        "outputId": "15ff74bf-3273-4426-aece-62cdeb471795"
      },
      "execution_count": null,
      "outputs": [
        {
          "output_type": "stream",
          "name": "stdout",
          "text": [
            "List of numbers from 1 to 10: [1, 2, 3, 4, 5, 6, 7, 8, 9, 10]\n"
          ]
        }
      ]
    },
    {
      "cell_type": "code",
      "source": [
        "#(10)\n",
        "squares = [x**2 for x in range(1, 6)]\n",
        "\n",
        "print(\"Squares of numbers 1-5:\", squares)"
      ],
      "metadata": {
        "colab": {
          "base_uri": "https://localhost:8080/"
        },
        "id": "VJ1H_brCLG83",
        "outputId": "0192f38d-fe4a-4cc7-933a-de0a2909bd28"
      },
      "execution_count": null,
      "outputs": [
        {
          "output_type": "stream",
          "name": "stdout",
          "text": [
            "Squares of numbers 1-5: [1, 4, 9, 16, 25]\n"
          ]
        }
      ]
    }
  ]
}